{
 "cells": [
  {
   "cell_type": "markdown",
   "metadata": {},
   "source": [
    "# Optimizing MNIST for printed fonts\n",
    "The [MNIST dataset](https://yann.lecun.com/exdb/mnist/) consists of 70,000 hand written digits normalized to a 28x28 image consisting. This dataset is a benchmark for [Convolutinoal Neural Network](https://www.ibm.com/topics/convolutional-neural-networks) image classifier models.\n",
    "\n",
    "In the [SudokuSolver](https://github.com/pschuette22/SudokuSolver) app, I use the MNIST dataset for classifying the digits of \"filled\" Sudoku Cells.\n",
    "\n",
    "<img src= \"resources/SudokuSolverDemo.gif\" height=\"400\"/>\n",
    "\n",
    "However. The MNIST Dataset is optimized for hand written digits and the Sudoku digits we are classifying are printed fonts. There are times when I am using the Sudoku Solver and the cells are correctly parsed, but the digits are incorrectly classified leading to solving errors! To minimize this, we want to create a \"Tuned\" Digit Classifier that more accurately identifies fonts by augmenting the MNIST Dataset with digits produced by a variety of fonts from the internet.\n"
   ]
  },
  {
   "cell_type": "markdown",
   "metadata": {},
   "source": [
    "## Setup\n",
    "This is a set of Python scripts using [miniconda](https://docs.anaconda.com/miniconda/) for package management. Load the requirements from the requirements file."
   ]
  }
 ],
 "metadata": {
  "kernelspec": {
   "display_name": "Python 3 (ipykernel)",
   "language": "python",
   "name": "python3"
  },
  "language_info": {
   "codemirror_mode": {
    "name": "ipython",
    "version": 3
   },
   "file_extension": ".py",
   "mimetype": "text/x-python",
   "name": "python",
   "nbconvert_exporter": "python",
   "pygments_lexer": "ipython3",
   "version": "3.11.9"
  }
 },
 "nbformat": 4,
 "nbformat_minor": 4
}
