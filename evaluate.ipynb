{
 "cells": [
  {
   "cell_type": "markdown",
   "metadata": {},
   "source": [
    "# Evaluation\n",
    "We now have three Digit classifying models: 1 downloaded from Apple's model library, 1 we created from the MNSIT Dataset, and another tuned from the one we created with a subset of digits created from various font files.\n",
    "\n",
    "We'd like to know which is the best to use for our Sudoku Solver app."
   ]
  },
  {
   "cell_type": "code",
   "execution_count": 17,
   "metadata": {},
   "outputs": [
    {
     "name": "stdout",
     "output_type": "stream",
     "text": [
      "{'labelProbabilities': {0: 1.0132789611816406e-06, 9: 0.00909423828125, 5: 0.003421783447265625, 1: 0.81396484375, 6: 8.761882781982422e-06, 2: 0.0, 7: 0.0, 3: 1.6689300537109375e-06, 8: 0.1685791015625, 4: 0.00516510009765625}, 'classLabel': 1}\n",
      "Predicted: 1\n",
      "Actual: 9\n"
     ]
    },
    {
     "data": {
      "text/markdown": [
       "Apple predicted 1 incorrectly"
      ],
      "text/plain": [
       "<IPython.core.display.Markdown object>"
      ]
     },
     "metadata": {},
     "output_type": "display_data"
    },
    {
     "name": "stdout",
     "output_type": "stream",
     "text": [
      "-1\n"
     ]
    },
    {
     "ename": "TypeError",
     "evalue": "'int' object is not subscriptable",
     "output_type": "error",
     "traceback": [
      "\u001b[0;31m---------------------------------------------------------------------------\u001b[0m",
      "\u001b[0;31mTypeError\u001b[0m                                 Traceback (most recent call last)",
      "Cell \u001b[0;32mIn[17], line 39\u001b[0m\n\u001b[1;32m     37\u001b[0m \u001b[38;5;66;03m# Get the predicted digit\u001b[39;00m\n\u001b[1;32m     38\u001b[0m \u001b[38;5;28mprint\u001b[39m(prediction)\n\u001b[0;32m---> 39\u001b[0m digit \u001b[38;5;241m=\u001b[39m \u001b[43mprediction\u001b[49m\u001b[43m[\u001b[49m\u001b[38;5;124;43m'\u001b[39;49m\u001b[38;5;124;43mclassLabel\u001b[39;49m\u001b[38;5;124;43m'\u001b[39;49m\u001b[43m]\u001b[49m\n\u001b[1;32m     40\u001b[0m \u001b[38;5;28mprint\u001b[39m(\u001b[38;5;124mf\u001b[39m\u001b[38;5;124m'\u001b[39m\u001b[38;5;124mPredicted: \u001b[39m\u001b[38;5;132;01m{\u001b[39;00mdigit\u001b[38;5;132;01m}\u001b[39;00m\u001b[38;5;124m'\u001b[39m)\n\u001b[1;32m     41\u001b[0m \u001b[38;5;66;03m# Get the actual digit\u001b[39;00m\n",
      "\u001b[0;31mTypeError\u001b[0m: 'int' object is not subscriptable"
     ]
    }
   ],
   "source": [
    "import os\n",
    "import coremltools as ct\n",
    "from PIL import Image\n",
    "from IPython.display import display, Markdown, Latex\n",
    "\n",
    "apple_model = ct.models.MLModel('MNISTClassifier.mlmodel')\n",
    "basic_model = ct.models.MLModel('product/DigitClassifier.mlmodel')\n",
    "tuned_model = ct.models.MLModel('product/TunedDigitClassifier.mlmodel')\n",
    "\n",
    "validate_images = 'dataset/fonts/validate'\n",
    "\n",
    "# Maintian a count of correctly identified images\n",
    "models = [(\"Apple\", apple_model), (\"Basic\", basic_model), (\"Tuned\", tuned_model)]\n",
    "hits = [0, 0, 0]\n",
    "images = 0\n",
    "# Iterate over the files in the folder\n",
    "for root, dir, files in os.walk(validate_images):\n",
    "    for file in files:\n",
    "        if not file.endswith('.png') and not file.endswith('.jpg'):\n",
    "            # Not an image\n",
    "            continue\n",
    "        actual_digit = int(root.split('/')[-1])\n",
    "        file_path = os.path.join(root, file)\n",
    "        \n",
    "        # Load the image\n",
    "        image = Image.open(file_path)\n",
    "        images += 1\n",
    "        for model in models:\n",
    "            # Make a prediction\n",
    "            prediction = -1\n",
    "            match model[0]:\n",
    "                case \"Apple\":\n",
    "                    prediction = model[1].predict({'image': image})\n",
    "                case \"Basic\", \"Tuned\":\n",
    "                    prediction = model[1].predict({'input_1': image})\n",
    "            \n",
    "            # Get the predicted digit\n",
    "            print(prediction)\n",
    "            print(f'Predicted: {prediction}')\n",
    "            # Get the actual digit\n",
    "            print(f'Actual: {actual_digit}')\n",
    "            # Check if the prediction is correct\n",
    "            if prediction == actual_digit:\n",
    "                hits[models.index(model)] += 1\n",
    "                display(Markdown(f\"{model[0]} predicted {prediction} correctly\"))\n",
    "            else:\n",
    "                display(Markdown(f\"{model[0]} predicted {prediction} incorrectly\"))\n"
   ]
  }
 ],
 "metadata": {
  "kernelspec": {
   "display_name": "font-tuned-env",
   "language": "python",
   "name": "python3"
  },
  "language_info": {
   "codemirror_mode": {
    "name": "ipython",
    "version": 3
   },
   "file_extension": ".py",
   "mimetype": "text/x-python",
   "name": "python",
   "nbconvert_exporter": "python",
   "pygments_lexer": "ipython3",
   "version": "3.11.9"
  }
 },
 "nbformat": 4,
 "nbformat_minor": 2
}
