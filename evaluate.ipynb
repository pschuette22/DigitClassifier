{
 "cells": [
  {
   "cell_type": "markdown",
   "metadata": {},
   "source": [
    "# Optimizing MNIST for printed fonts\n",
    "The [MNIST dataset](https://yann.lecun.com/exdb/mnist/) consists of 70,000 hand written digits normalized to a 28x28 image. Images are grayscale with a black background and white glyph. This dataset is a benchmark for [Convolutinoal Neural Network](https://www.ibm.com/topics/convolutional-neural-networks) image classifier models.\n",
    "\n",
    "In the [SudokuSolver](https://github.com/pschuette22/SudokuSolver) app, I use the MNIST dataset for classifying the digits of \"filled\" Sudoku Cells.\n",
    "\n",
    "<img src= \"resources/SudokuSolverDemo.gif\" height=\"400\"/>\n",
    "\n",
    "However. The MNIST Dataset is optimized for hand written digits and the Sudoku digits we are classifying are printed fonts. There are times when I am using the Sudoku Solver and the cells are correctly parsed, but the digits are incorrectly classified leading to solving errors! To minimize this, we want to create a \"Tuned\" Digit Classifier that more accurately identifies fonts by augmenting the MNIST Dataset with digits produced by a variety of fonts from the internet.\n"
   ]
  },
  {
   "cell_type": "markdown",
   "metadata": {},
   "source": [
    "## Prepare the Dataset\n",
    "The first step is to prepare the dataset from a set of fonts. Do this by running the build dataset python script over the fonts added to the `fonts` directory"
   ]
  },
  {
   "cell_type": "code",
   "execution_count": 7,
   "metadata": {},
   "outputs": [
    {
     "ename": "ModuleNotFoundError",
     "evalue": "No module named 'fontTools'",
     "output_type": "error",
     "traceback": [
      "\u001b[0;31m---------------------------------------------------------------------------\u001b[0m",
      "\u001b[0;31mModuleNotFoundError\u001b[0m                       Traceback (most recent call last)",
      "Cell \u001b[0;32mIn[7], line 1\u001b[0m\n\u001b[0;32m----> 1\u001b[0m \u001b[38;5;28;01mimport\u001b[39;00m \u001b[38;5;21;01mbuild_dataset\u001b[39;00m\n\u001b[1;32m      3\u001b[0m build_dataset\u001b[38;5;241m.\u001b[39mbuild_dataset(\u001b[38;5;124m'\u001b[39m\u001b[38;5;124mfonts\u001b[39m\u001b[38;5;124m'\u001b[39m)\n",
      "File \u001b[0;32m~/Workspace/DigitClassifier/build_dataset.py:7\u001b[0m\n\u001b[1;32m      5\u001b[0m \u001b[38;5;28;01mfrom\u001b[39;00m \u001b[38;5;21;01mPIL\u001b[39;00m \u001b[38;5;28;01mimport\u001b[39;00m Image, ImageDraw, ImageFont\n\u001b[1;32m      6\u001b[0m \u001b[38;5;28;01mfrom\u001b[39;00m \u001b[38;5;21;01mpathlib\u001b[39;00m \u001b[38;5;28;01mimport\u001b[39;00m Path\n\u001b[0;32m----> 7\u001b[0m \u001b[38;5;28;01mfrom\u001b[39;00m \u001b[38;5;21;01mfontTools\u001b[39;00m\u001b[38;5;21;01m.\u001b[39;00m\u001b[38;5;21;01mttLib\u001b[39;00m \u001b[38;5;28;01mimport\u001b[39;00m TTFont\n\u001b[1;32m      9\u001b[0m \u001b[38;5;66;03m# TODO: consider a trie or an otherwise better datastructure\u001b[39;00m\n\u001b[1;32m     10\u001b[0m \u001b[38;5;66;03m# Maybe a yml with rules and fonts separated to initialize a model\u001b[39;00m\n\u001b[1;32m     12\u001b[0m \u001b[38;5;28;01mdef\u001b[39;00m \u001b[38;5;21mcontains_digit\u001b[39m(font_path, digit):\n",
      "\u001b[0;31mModuleNotFoundError\u001b[0m: No module named 'fontTools'"
     ]
    }
   ],
   "source": [
    "from ipywidgets import interact, interactive, fixed, interact_manual\n",
    "import ipywidgets as widgets\n",
    "import build_dataset\n",
    "\n",
    "def f(fonts_path):\n",
    "    build_dataset.build_dataset(fonts_path)\n",
    "\n",
    "interact(f, fonts_path='fonts')"
   ]
  }
 ],
 "metadata": {
  "kernelspec": {
   "display_name": "Python 3 (ipykernel)",
   "language": "python",
   "name": "python3"
  },
  "language_info": {
   "codemirror_mode": {
    "name": "ipython",
    "version": 3
   },
   "file_extension": ".py",
   "mimetype": "text/x-python",
   "name": "python",
   "nbconvert_exporter": "python",
   "pygments_lexer": "ipython3",
   "version": "3.11.9"
  }
 },
 "nbformat": 4,
 "nbformat_minor": 4
}
